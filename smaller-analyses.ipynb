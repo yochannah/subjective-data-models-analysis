{
 "cells": [
  {
   "cell_type": "code",
   "execution_count": 64,
   "metadata": {},
   "outputs": [
    {
     "name": "stdout",
     "output_type": "stream",
     "text": [
      "        Nodes  Participant 01  Participant 02  Participant 03  Participant 04  \\\n",
      "0  Categories               2               0               2               0   \n",
      "1   heirarchy               6               2               3               7   \n",
      "\n",
      "   Participant 05  Participant 06  Participant 07  Participant 08  \\\n",
      "0               0               1               0               1   \n",
      "1               0               0               2               1   \n",
      "\n",
      "   Participant 09  ...  Participant 13  Participant 14  Participant 15  \\\n",
      "0               2  ...               4               0               3   \n",
      "1               2  ...              14              17              33   \n",
      "\n",
      "   Participant 16  Participant 17  Participant 18  Participant 19  \\\n",
      "0               4               3               0               3   \n",
      "1              20              18              24              16   \n",
      "\n",
      "   Participant 20  Participant 21  Participant 22  \n",
      "0               0               0               0  \n",
      "1              27              29              18  \n",
      "\n",
      "[2 rows x 23 columns]\n"
     ]
    }
   ],
   "source": [
    "# Setup - import library and load data from local file\n",
    "import pandas as pd\n",
    "import numpy as np\n",
    "import matplotlib.pyplot as plt"
   ]
  },
  {
   "cell_type": "markdown",
   "metadata": {},
   "source": [
    "## Check which interviews are tagged with category *and* with hierarchy"
   ]
  },
  {
   "cell_type": "code",
   "execution_count": 86,
   "metadata": {},
   "outputs": [
    {
     "name": "stdout",
     "output_type": "stream",
     "text": [
      "        Nodes  Participant 01  Participant 02  Participant 03  Participant 04  \\\n",
      "0  Categories               2               0               2               0   \n",
      "1   heirarchy               6               2               3               7   \n",
      "\n",
      "   Participant 05  Participant 06  Participant 07  Participant 08  \\\n",
      "0               0               1               0               1   \n",
      "1               0               0               2               1   \n",
      "\n",
      "   Participant 09  ...  Participant 13  Participant 14  Participant 15  \\\n",
      "0               2  ...               4               0               3   \n",
      "1               2  ...              14              17              33   \n",
      "\n",
      "   Participant 16  Participant 17  Participant 18  Participant 19  \\\n",
      "0               4               3               0               3   \n",
      "1              20              18              24              16   \n",
      "\n",
      "   Participant 20  Participant 21  Participant 22  \n",
      "0               0               0               0  \n",
      "1              27              29              18  \n",
      "\n",
      "[2 rows x 23 columns]\n"
     ]
    }
   ],
   "source": [
    "cat_vs_hier = pd.read_csv(\"data/categories_vs_hierarchy.csv\")\n",
    "cat_vs_hier = cat_vs_hier.iloc[0:2,0:23] # we don't need the nodes or total columns or total row\n",
    "print(cat_vs_hier)"
   ]
  },
  {
   "cell_type": "markdown",
   "metadata": {},
   "source": [
    "Next, we check which of the participants labelled with heirarchy are also labelled with category"
   ]
  },
  {
   "cell_type": "code",
   "execution_count": 88,
   "metadata": {},
   "outputs": [
    {
     "data": {
      "text/plain": [
       "10"
      ]
     },
     "execution_count": 88,
     "metadata": {},
     "output_type": "execute_result"
    }
   ],
   "source": [
    "cat_vs_hier_overlaps = {}\n",
    "\n",
    "for i in cat_vs_hier.iloc[:,1:23]: # don't process the nodes label at position 0\n",
    "    #set each participant to true if there are values in hierarchy AND in category. \n",
    "    cat_vs_hier_overlaps[i] = (cat_vs_hier[i][0] != 0) & (cat_vs_hier[i][1] != 0)\n",
    "    \n",
    "pd.Series(cat_vs_hier_overlaps).sum() # returns number of \"True\" results"
   ]
  },
  {
   "cell_type": "code",
   "execution_count": null,
   "metadata": {},
   "outputs": [],
   "source": []
  }
 ],
 "metadata": {
  "kernelspec": {
   "display_name": "Python 3",
   "language": "python",
   "name": "python3"
  },
  "language_info": {
   "codemirror_mode": {
    "name": "ipython",
    "version": 3
   },
   "file_extension": ".py",
   "mimetype": "text/x-python",
   "name": "python",
   "nbconvert_exporter": "python",
   "pygments_lexer": "ipython3",
   "version": "3.8.3"
  }
 },
 "nbformat": 4,
 "nbformat_minor": 4
}
